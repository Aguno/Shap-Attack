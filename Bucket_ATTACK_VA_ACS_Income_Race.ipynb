{
 "cells": [
  {
   "cell_type": "code",
   "execution_count": 1,
   "id": "0e8109a3",
   "metadata": {},
   "outputs": [],
   "source": [
    "from tqdm import tqdm\n",
    "from sklearn.model_selection import StratifiedShuffleSplit\n",
    "import os\n",
    "os.environ['PYTHONWARNINGS'] = \"ignore\"\n",
    "import warnings\n",
    "warnings.filterwarnings('ignore')\n",
    "import numpy as np\n",
    "import pandas as pd\n",
    "import sklearn\n",
    "import matplotlib.pyplot as plt\n",
    "\n",
    "from sklearn.model_selection import GridSearchCV\n",
    "from sklearn.model_selection import StratifiedKFold\n",
    "from sklearn.model_selection import train_test_split\n",
    "from sklearn.preprocessing import KBinsDiscretizer\n",
    "from sklearn.metrics import accuracy_score, precision_score, recall_score, f1_score,confusion_matrix\n",
    "from sklearn.preprocessing import OneHotEncoder\n",
    "import pickle\n",
    "import xgboost as xgb\n",
    "from shap import GPUTreeExplainer\n",
    "from matplotlib.ticker import MaxNLocator,MultipleLocator\n",
    "from scipy.stats import kendalltau\n",
    "from scipy.special import expit\n",
    "\n",
    "import mlresearch\n",
    "mlresearch.utils.set_matplotlib_style()\n",
    "from mlresearch.utils import set_matplotlib_style\n",
    "set_matplotlib_style(font_size=27)"
   ]
  },
  {
   "cell_type": "code",
   "execution_count": 2,
   "id": "b36a1592-b0c5-4100-b424-b7db710762cf",
   "metadata": {},
   "outputs": [
    {
     "name": "stdout",
     "output_type": "stream",
     "text": [
      "2.0.2\n",
      "1.6.1\n",
      "2.1.4\n",
      "3.12.9 | packaged by Anaconda, Inc. | (main, Feb  6 2025, 18:56:27) [GCC 11.2.0]\n"
     ]
    }
   ],
   "source": [
    "import numpy as np\n",
    "print(np.__version__) #1.26.4\n",
    "# print(shap.__version__) #0.46.1.dev86\n",
    "print(sklearn.__version__) #1.6.0\n",
    "print(xgb.__version__) #1.7.6\n",
    "import sys\n",
    "print(sys.version)"
   ]
  },
  {
   "cell_type": "markdown",
   "id": "a8f97860-e454-41e5-b150-445368cff597",
   "metadata": {},
   "source": [
    "## Preprocessing"
   ]
  },
  {
   "cell_type": "code",
   "execution_count": 3,
   "id": "10cd23aa",
   "metadata": {},
   "outputs": [],
   "source": [
    "# Use White alone & African American only \n",
    "FEAT_CNT = 8\n",
    "STATE = 'VA'\n",
    "FOLDS = 5\n",
    "seeds = [0,21,42,63,84]"
   ]
  },
  {
   "cell_type": "code",
   "execution_count": 4,
   "id": "21fb6621",
   "metadata": {},
   "outputs": [],
   "source": [
    "categorical_cols =['Occupation', 'Marriage','Place of Birth','Sex', 'Race']\n",
    "\n",
    "with open(file=f'dataset/ACS_Income_{STATE}.pickle', mode='rb') as f:\n",
    "    df=pickle.load(f)\n",
    "columns = df.columns\n",
    "with pd.option_context('future.no_silent_downcasting', True):\n",
    "    df.replace([' <=50K',' >50K'],\n",
    "                 [0,1], inplace = True)\n",
    "    df['Sex'].replace( {'Female':0.0},inplace = True)\n",
    "    df['Sex'].replace({'Male':1.0}, inplace = True)\n",
    "df['Race'] = df['Race'].str.strip().str.lower()\n",
    "race_used = ['asian alone', 'black or african american alone', 'white alone']\n",
    "\n",
    "# Replace values not in race_used with 'Other'\n",
    "df['Race'] = df['Race'].apply(lambda x: x if x in race_used else 'other')\n",
    "X = df.iloc[:, 0:FEAT_CNT]\n",
    "Y = df.iloc[:, FEAT_CNT]\n",
    "\n",
    "category_col =['Occupation', 'Marriage','Place of Birth', 'Race']\n",
    "X = pd.get_dummies(X, columns=category_col, drop_first=False)\n",
    "for c in X.columns:\n",
    "    X[c] = X[c].astype(float)"
   ]
  },
  {
   "cell_type": "code",
   "execution_count": 5,
   "id": "ade2b94e-fd7a-40ba-a0ea-6134bc2b6789",
   "metadata": {},
   "outputs": [],
   "source": [
    "'''\n",
    "2 buckets\n",
    "    White, Black + Asian + Other\n",
    "    White + Black , Asian + Other ( Number-wise majority vs minority)\n",
    "    White + Asian, Black + Other (Privileged vs unprivileged)\n",
    "3 buckets\n",
    "    White, Black, Asian + Other\n",
    "    White, Asian, Black + Other\n",
    "'''\n",
    "\n",
    "white, black, asian, other =  'Race_white alone','Race_black or african american alone', 'Race_asian alone', 'Race_other'\n",
    "all_buckets = {'W,B+A+O':[[white],[black,asian,other]], 'W+B,A+O':[[white,black],[asian,other]],\"W+A,B+O\":[[white,asian],[black,other]], \n",
    "           'W,B,A+O':[[white],[black],[asian,other]],'W,A,B+O': [[white],[asian],[black,other]] \n",
    "              }"
   ]
  },
  {
   "cell_type": "markdown",
   "id": "84e5fb1a-7d9d-4f4a-a71d-a65f066d472b",
   "metadata": {},
   "source": [
    "## Utils"
   ]
  },
  {
   "cell_type": "code",
   "execution_count": 6,
   "id": "f2a80d4d-a5ee-47b0-8814-2a843768f074",
   "metadata": {},
   "outputs": [],
   "source": [
    "def assign_race(X, buckets):\n",
    "    X2 = X.copy()\n",
    "    for bucket in buckets:\n",
    "        if len(bucket) > 1:\n",
    "            # Determine majority race based on overall counts\n",
    "            b_counts = {race: X2[race].sum() for race in bucket}\n",
    "            max_race = max(b_counts, key=b_counts.get)\n",
    "            \n",
    "            # Identify rows that have any race indicator in the bucket\n",
    "            mask = X2[bucket].sum(axis=1) > 0\n",
    "            \n",
    "            # Set all columns in the bucket to 0 for these rows\n",
    "            X2.loc[mask, bucket] = 0.0\n",
    "            \n",
    "            # Then set the majority race column to 1 for these rows\n",
    "            X2.loc[mask, max_race] = 1.0\n",
    "    return X2\n",
    "\n",
    "def sum_race_shaps(shap_vals):\n",
    "    \n",
    "    all_races = [white,black,asian,other]\n",
    "    all_race_idx = [list(X.columns).index(race) for race in all_races]\n",
    "\n",
    "    # Step 1: Compute the sum of specified columns for each row\n",
    "    new_column =shap_vals[:, all_race_idx].sum(axis=1)\n",
    "    \n",
    "    # Step 2: Add the new column to the array\n",
    "    shap_vals = np.hstack((shap_vals, new_column.reshape(-1, 1)))\n",
    "    \n",
    "    # Step 3: Delete the specified columns\n",
    "    shap_vals = np.delete(shap_vals, all_race_idx, axis=1)\n",
    "    return shap_vals\n",
    "def get_ranks(shap_vals):\n",
    "\n",
    "    sorted_indices = np.argsort(-np.abs(shap_vals), axis=1)  # Indices of absolute values in descending order\n",
    "    rank = np.empty_like(sorted_indices)             # Create an empty array of the same shape\n",
    "    rows, cols = shap_vals.shape                            # Get the shape of the array\n",
    "    rank[np.arange(rows)[:, None], sorted_indices] = np.arange(1, cols + 1)  # Assign ranks row-wise\n",
    "\n",
    "    target_rank = rank[:,-1]\n",
    "\n",
    "    return rank,target_rank\n",
    "\n",
    "def compute_shap(X_train,X_test,Y_train,Y_test,models, seed):\n",
    "\n",
    "    print('**********START**********')\n",
    "    # Extract the best model\n",
    "    best_model = models[i]\n",
    "\n",
    "    explainer = GPUTreeExplainer(best_model,X_train,feature_perturbation = 'interventional')\n",
    "    shap_values = explainer(X_test)\n",
    "    pred = best_model.predict(X_test)\n",
    "    return shap_values\n",
    "\n",
    "\n",
    "def compute_fidelity(pred, sv, base):\n",
    "\n",
    "    sv_sums = expit(np.sum(sv, axis=1)+base)\n",
    "    binary_predictions = (sv_sums > 0.5).astype(float)\n",
    "    fidelity = np.mean(binary_predictions == pred)\n",
    "    match_idx = np.where(binary_predictions == pred)[0]\n",
    "        \n",
    "    return fidelity,match_idx\n",
    "            "
   ]
  },
  {
   "cell_type": "markdown",
   "id": "6b2e55d4",
   "metadata": {},
   "source": [
    "## Train the model with plain Age"
   ]
  },
  {
   "cell_type": "code",
   "execution_count": 7,
   "id": "ee15125f-6596-4bd0-ba71-c8a45d2efd9f",
   "metadata": {},
   "outputs": [
    {
     "name": "stderr",
     "output_type": "stream",
     "text": [
      "  0%|                                                       | 0/5 [00:00<?, ?it/s]"
     ]
    },
    {
     "name": "stdout",
     "output_type": "stream",
     "text": [
      "Fitting 5 folds for each of 270 candidates, totalling 1350 fits\n"
     ]
    },
    {
     "name": "stderr",
     "output_type": "stream",
     "text": [
      " 20%|█████████▍                                     | 1/5 [00:28<01:55, 28.98s/it]"
     ]
    },
    {
     "name": "stdout",
     "output_type": "stream",
     "text": [
      "Fitting 5 folds for each of 270 candidates, totalling 1350 fits\n"
     ]
    },
    {
     "name": "stderr",
     "output_type": "stream",
     "text": [
      " 40%|██████████████████▊                            | 2/5 [00:47<01:08, 22.72s/it]"
     ]
    },
    {
     "name": "stdout",
     "output_type": "stream",
     "text": [
      "Fitting 5 folds for each of 270 candidates, totalling 1350 fits\n"
     ]
    },
    {
     "name": "stderr",
     "output_type": "stream",
     "text": [
      " 60%|████████████████████████████▏                  | 3/5 [01:05<00:41, 20.56s/it]"
     ]
    },
    {
     "name": "stdout",
     "output_type": "stream",
     "text": [
      "Fitting 5 folds for each of 270 candidates, totalling 1350 fits\n"
     ]
    },
    {
     "name": "stderr",
     "output_type": "stream",
     "text": [
      " 80%|█████████████████████████████████████▌         | 4/5 [01:23<00:19, 19.54s/it]"
     ]
    },
    {
     "name": "stdout",
     "output_type": "stream",
     "text": [
      "Fitting 5 folds for each of 270 candidates, totalling 1350 fits\n"
     ]
    },
    {
     "name": "stderr",
     "output_type": "stream",
     "text": [
      "100%|███████████████████████████████████████████████| 5/5 [01:41<00:00, 20.25s/it]"
     ]
    },
    {
     "name": "stdout",
     "output_type": "stream",
     "text": [
      "Overall average acc: 79.47 average f1s : 76.31\n"
     ]
    },
    {
     "name": "stderr",
     "output_type": "stream",
     "text": [
      "\n"
     ]
    }
   ],
   "source": [
    "base_shap_vals = list()\n",
    "base_preds = list()\n",
    "base_accs = list() \n",
    "base_f1s = list()\n",
    "base_ranks = list()\n",
    "base_race_ranks = list()\n",
    "\n",
    "base_firsts = list()\n",
    "base_percentages = list()\n",
    "base_first_race_shap_vals = list()\n",
    "\n",
    "base_models = list()\n",
    "\n",
    "for seed in tqdm(seeds):\n",
    "    np.random.seed(seed)\n",
    "    splitter = StratifiedShuffleSplit(n_splits=1, test_size=0.2, random_state=seed)\n",
    "    for train_val_idx, test_idx in splitter.split(X, Y):\n",
    "        X_train_val, X_test = X.iloc[train_val_idx], X.iloc[test_idx]\n",
    "        Y_train_val, Y_test = Y.iloc[train_val_idx], Y.iloc[test_idx]\n",
    "    \n",
    "    splitter = StratifiedShuffleSplit(n_splits=1, test_size=0.25, random_state=seed)\n",
    "    for train_idx, val_idx in splitter.split(X_train_val, Y_train_val):\n",
    "        X_train, X_val = X_train_val.iloc[train_idx], X_train_val.iloc[val_idx]\n",
    "        Y_train, Y_val = Y_train_val.iloc[train_idx], Y_train_val.iloc[val_idx]\n",
    "    param_grid = {\n",
    "        'classifier__n_estimators': [50, 100, 200],  # Number of boosting rounds\n",
    "        'classifier__max_depth': [3, 5, 7,9,11],          # Maximum tree depth\n",
    "        'classifier__learning_rate': [0.01, 0.1, 0.2],  # Step size shrinkage \n",
    "        'classifier__colsample_bytree': [0.8, 1.0],  # Subsample ratio of columns for each tree\n",
    "        'classifier__gamma': [0, 0.1, 0.2],          # Minimum loss reduction for a split\n",
    "    }\n",
    "    model = xgb.XGBClassifier(random_state=seed)\n",
    "    grid_search = GridSearchCV(\n",
    "        model, \n",
    "        param_grid,              # 3-fold cross-validation\n",
    "        scoring='f1',   # Evaluation metric\n",
    "        n_jobs=13,            # Use all processors\n",
    "        verbose=1             # Print progress\n",
    "    )\n",
    "\n",
    "    grid_search.fit(X_train, Y_train)\n",
    "    \n",
    "    # Extract the best model\n",
    "    best_model = grid_search.best_estimator_\n",
    "    base_models.append(best_model)\n",
    "    explainer = GPUTreeExplainer(best_model,X_train, feature_perturbation='interventional') \n",
    "    shap_values = explainer(X_test)\n",
    "    \n",
    "    sv = sum_race_shaps(shap_values.values)\n",
    "    \n",
    "    base_rank,race_rank= get_ranks(sv)\n",
    "    base_ranks.append(base_rank)\n",
    "    \n",
    "    pred = best_model.predict(X_test)\n",
    "    # base_models.append(best_model)\n",
    "    base_shap_vals.append(shap_values)\n",
    "    base_preds.append(pred)\n",
    "    base_accs.append(accuracy_score(Y_test,pred)*100)\n",
    "    base_f1s.append(f1_score(Y_test,pred)*100)\n",
    "    base_ranks.append(base_rank)\n",
    "    base_race_ranks.append(race_rank)\n",
    "    # First\n",
    "\n",
    "    ## Indices of first\n",
    "    first = [int(j) for j,v in enumerate(race_rank) if v == 1]\n",
    "    base_firsts.append(first)\n",
    "    base_percentages.append(len(first)/len(X_test) *100)\n",
    "    base_first_race_shap_vals.append(race_rank[first])\n",
    "print(f'Overall average acc: {sum(base_accs)/len(base_accs):.2f} average f1s : {sum(base_f1s)/len(base_f1s):.2f}')\n",
    "\n",
    "\n",
    "\n"
   ]
  },
  {
   "cell_type": "code",
   "execution_count": 20,
   "id": "d76f78e6-6c46-4d99-89e2-94319b33111f",
   "metadata": {},
   "outputs": [],
   "source": [
    "with open(path + '/Bucket_Attack_Income_base_race_ranks_cv.pickle', 'wb') as f:\n",
    "    pickle.dump(base_race_ranks, f, pickle.HIGHEST_PROTOCOL)"
   ]
  },
  {
   "cell_type": "markdown",
   "id": "5e5c3611",
   "metadata": {},
   "source": [
    " # Race Bucetkization"
   ]
  },
  {
   "cell_type": "code",
   "execution_count": 17,
   "id": "750f99b8-c058-4ab0-b19b-c4e6a7e38ecf",
   "metadata": {},
   "outputs": [
    {
     "name": "stdout",
     "output_type": "stream",
     "text": [
      "**********START**********\n",
      "**********START**********\n",
      "**********START**********\n",
      "**********START**********\n",
      "**********START**********\n",
      "**********START**********\n",
      "**********START**********\n",
      "**********START**********\n",
      "**********START**********\n",
      "**********START**********\n",
      "**********START**********\n",
      "**********START**********\n",
      "**********START**********\n",
      "**********START**********\n",
      "**********START**********\n",
      "**********START**********\n",
      "**********START**********\n",
      "**********START**********\n",
      "**********START**********\n",
      "**********START**********\n",
      "**********START**********\n",
      "**********START**********\n",
      "**********START**********\n",
      "**********START**********\n",
      "**********START**********\n"
     ]
    }
   ],
   "source": [
    "bucket_fids = list()\n",
    "bucket_race_ranks = list()\n",
    "\n",
    "\n",
    "for race in all_buckets.values():\n",
    "    # compute bin edges as shap values for bucketized data\n",
    "    b_fids = list()\n",
    "    b_race_ranks = list()\n",
    "\n",
    "\n",
    "    X2 = assign_race(X, race)\n",
    "    for i, seed in enumerate(seeds):\n",
    "        np.random.seed(seed)\n",
    "        splitter = StratifiedShuffleSplit(n_splits=1, test_size=0.2, random_state=seed)\n",
    "        for train_val_idx, test_idx in splitter.split(X2, Y):\n",
    "            X_train_val, X_test = X2.iloc[train_val_idx], X2.iloc[test_idx]\n",
    "            Y_train_val, Y_test = Y.iloc[train_val_idx], Y.iloc[test_idx]\n",
    "        \n",
    "        splitter = StratifiedShuffleSplit(n_splits=1, test_size=0.25, random_state=seed)\n",
    "        for train_idx, val_idx in splitter.split(X_train_val, Y_train_val):\n",
    "            X_train, X_val = X_train_val.iloc[train_idx], X_train_val.iloc[val_idx]\n",
    "            Y_train, Y_val = Y_train_val.iloc[train_idx], Y_train_val.iloc[val_idx] \n",
    "\n",
    "        b_shap = compute_shap(X_train,X_test,Y_train,Y_test,base_models,seed)\n",
    "        sv = sum_race_shaps(b_shap.values)\n",
    "        b_rank, b_race_rank = get_ranks(sv)\n",
    "\n",
    "        preds = base_preds[i]\n",
    "        base = b_shap.base_values\n",
    "        b_fid, b_agreed = compute_fidelity(preds,sv,base)\n",
    "\n",
    "        b_fids.append(b_fid)\n",
    "        b_race_ranks.append(b_race_rank)\n",
    "        \n",
    "\n",
    "    bucket_fids.append(b_fids)\n",
    "    bucket_race_ranks.append(b_race_ranks)\n",
    "\n",
    "\n",
    "  "
   ]
  },
  {
   "cell_type": "code",
   "execution_count": 19,
   "id": "14bd7fd4-2c92-4c1b-ae7a-3adc11ba6674",
   "metadata": {},
   "outputs": [],
   "source": [
    "import pickle\n",
    "from pathlib import Path\n",
    "path = './results'\n",
    "if not os.path.exists(path):\n",
    "   # Create a new directory because it does not exist\n",
    "   os.makedirs(path)\n",
    "with open(path + '/Bucket_Attack_Income_bucket_fids_cv.pickle', 'wb') as f:\n",
    "    pickle.dump(bucket_fids, f, pickle.HIGHEST_PROTOCOL)\n",
    "with open(path + '/Bucket_Attack_Income_bucket_race_ranks_cv.pickle', 'wb') as f:\n",
    "    pickle.dump(bucket_race_ranks, f, pickle.HIGHEST_PROTOCOL)"
   ]
  },
  {
   "cell_type": "code",
   "execution_count": null,
   "id": "4eabcdc7-6ff7-4325-b313-cfd5b799f958",
   "metadata": {},
   "outputs": [],
   "source": []
  },
  {
   "cell_type": "code",
   "execution_count": null,
   "id": "aff5fec7-b9dc-4a6f-872d-31616a132e19",
   "metadata": {},
   "outputs": [],
   "source": []
  },
  {
   "cell_type": "code",
   "execution_count": null,
   "id": "793fac23-6a7a-4d0c-843d-74befbad0c68",
   "metadata": {},
   "outputs": [],
   "source": []
  }
 ],
 "metadata": {
  "kernelspec": {
   "display_name": "Python 3 (ipykernel)",
   "language": "python",
   "name": "python3"
  },
  "language_info": {
   "codemirror_mode": {
    "name": "ipython",
    "version": 3
   },
   "file_extension": ".py",
   "mimetype": "text/x-python",
   "name": "python",
   "nbconvert_exporter": "python",
   "pygments_lexer": "ipython3",
   "version": "3.12.9"
  }
 },
 "nbformat": 4,
 "nbformat_minor": 5
}
